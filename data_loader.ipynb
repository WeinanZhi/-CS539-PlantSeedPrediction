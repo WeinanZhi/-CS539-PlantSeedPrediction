{
 "cells": [
  {
   "cell_type": "code",
   "execution_count": 1,
   "metadata": {},
   "outputs": [
    {
     "name": "stdout",
     "output_type": "stream",
     "text": [
      "Using matplotlib backend: MacOSX\n"
     ]
    }
   ],
   "source": [
    "import os\n",
    "import numpy as np\n",
    "import torch\n",
    "import cv2\n",
    "import tensorflow as tf\n",
    "import matplotlib.pyplot as plt\n",
    "%matplotlib"
   ]
  },
  {
   "cell_type": "code",
   "execution_count": 2,
   "metadata": {},
   "outputs": [
    {
     "name": "stdout",
     "output_type": "stream",
     "text": [
      "Cleavers \n",
      "\n",
      "Sugar beet \n",
      "\n",
      "Common Chickweed \n",
      "\n",
      "Loose Silky-bent \n",
      "\n",
      "Scentless Mayweed \n",
      "\n",
      "Shepherds Purse \n",
      "\n",
      "Fat Hen \n",
      "\n",
      "Common wheat \n",
      "\n",
      "Black-grass \n",
      "\n",
      "Small-flowered Cranesbill \n",
      "\n",
      "Charlock \n",
      "\n",
      "Maize \n",
      "\n"
     ]
    }
   ],
   "source": [
    "categories = os.listdir(\"./plant-seedlings-classification/train\")\n",
    "for cat in categories:\n",
    "    print(cat,'\\n')"
   ]
  },
  {
   "cell_type": "code",
   "execution_count": 3,
   "metadata": {},
   "outputs": [],
   "source": [
    "sample_X, sample_Y = [], []\n",
    "train_X, train_Y = [], []\n",
    "test = []\n",
    "# define the size of the training pictures in pixels.\n",
    "img_s1, img_s2 = 100, 100 \n",
    "\n",
    "def createSampleSet(dirpath):\n",
    "    # Sample training set contains 50% of training set with random choice\n",
    "    # count of original images\n",
    "    a = 0\n",
    "    \n",
    "    types = ['train']\n",
    "    for t in types:\n",
    "        # create train directory\n",
    "        traindir = os.path.join(dirpath, t)\n",
    "        for cat in categories:\n",
    "            # create each category directory\n",
    "            Path = os.path.join(traindir, cat)\n",
    "            imgs = [f for f in os.listdir(Path)]\n",
    "            random_imgs = np.random.choice(imgs, int(len(imgs)*.5))\n",
    "            class_num = categories.index(cat)\n",
    "            for img in random_imgs:\n",
    "                # create each image directory\n",
    "                image = os.path.join(Path, img)\n",
    "                image = cv2.imread(image, cv2.IMREAD_ANYCOLOR)\n",
    "                image = cv2.resize(image, (img_s1, img_s2))\n",
    "                # by default, cv2 use BGR to store images.\n",
    "                image = cv2.cvtColor(image, cv2.COLOR_BGR2RGB)\n",
    "                \n",
    "                sample_X.append(image)\n",
    "                sample_Y.append(class_num)\n",
    "                a += 1\n",
    "            print('count: ', a)\n",
    "\n",
    "def creatTrainingSet(dirpath):\n",
    "    # count of original images\n",
    "    a = 0\n",
    "    \n",
    "    types = ['train']\n",
    "    for t in types:\n",
    "        # create train directory\n",
    "        traindir = os.path.join(dirpath, t)\n",
    "        for cat in categories:\n",
    "            # create each category directory\n",
    "            Path = os.path.join(traindir, cat)\n",
    "            class_num = categories.index(cat)\n",
    "            for img in os.listdir(Path):\n",
    "                # create each image directory\n",
    "                image = os.path.join(Path, img)\n",
    "                image = cv2.imread(image, cv2.IMREAD_ANYCOLOR)\n",
    "                image = cv2.resize(image, (img_s1, img_s2))\n",
    "                # by default, cv2 use BGR to store images.\n",
    "                image = cv2.cvtColor(image, cv2.COLOR_BGR2RGB)\n",
    "                \n",
    "                train_X.append(image)\n",
    "                train_Y.append(class_num)\n",
    "                a += 1\n",
    "            print('count: ', a)\n",
    "            \n",
    "def createTestSet(dirpath):\n",
    "    b = 0\n",
    "    \n",
    "    types = ['test']\n",
    "    for t in types:\n",
    "        # create test directory\n",
    "        testdir = os.path.join(dirpath, t)\n",
    "        for img in os.listdir(testdir):\n",
    "            # create each image directory\n",
    "            image = os.path.join(testdir, img)\n",
    "            image = cv2.imread(image, cv2.IMREAD_ANYCOLOR)\n",
    "            image = cv2.resize(image, (img_s1, img_s2))\n",
    "            # by default, cv2 use BGR to store images.\n",
    "            image = cv2.cvtColor(image, cv2.COLOR_BGR2RGB)\n",
    "            test.append(image)\n",
    "            b += 1\n",
    "        print('count of test: ', b)\n",
    "\n",
    "def toTensor(data):\n",
    "    data = torch.from_numpy(data.transpose((0, 3, 1, 2)))\n",
    "    return data.float().div(255).unsqueeze(0)"
   ]
  },
  {
   "cell_type": "code",
   "execution_count": 4,
   "metadata": {},
   "outputs": [
    {
     "name": "stdout",
     "output_type": "stream",
     "text": [
      "count:  143\n",
      "count:  335\n",
      "count:  640\n",
      "count:  967\n",
      "count:  1225\n",
      "count:  1340\n",
      "count:  1577\n",
      "count:  1687\n",
      "count:  1818\n",
      "count:  2066\n",
      "count:  2261\n",
      "count:  2371\n"
     ]
    }
   ],
   "source": [
    "dirpath = './plant-seedlings-classification/'\n",
    "createSampleSet(dirpath)"
   ]
  },
  {
   "cell_type": "code",
   "execution_count": 5,
   "metadata": {},
   "outputs": [
    {
     "name": "stdout",
     "output_type": "stream",
     "text": [
      "count:  287\n",
      "count:  672\n",
      "count:  1283\n",
      "count:  1937\n",
      "count:  2453\n",
      "count:  2684\n",
      "count:  3159\n",
      "count:  3380\n",
      "count:  3643\n",
      "count:  4139\n",
      "count:  4529\n",
      "count:  4750\n"
     ]
    }
   ],
   "source": [
    "creatTrainingSet(dirpath)"
   ]
  },
  {
   "cell_type": "code",
   "execution_count": 6,
   "metadata": {},
   "outputs": [
    {
     "name": "stdout",
     "output_type": "stream",
     "text": [
      "count of test:  794\n"
     ]
    }
   ],
   "source": [
    "createTestSet(dirpath)"
   ]
  },
  {
   "cell_type": "code",
   "execution_count": 7,
   "metadata": {},
   "outputs": [],
   "source": [
    "sample_X = np.array(sample_X) # (2371, 100, 100, 3)\n",
    "train_X = np.array(train_X)   # (4750, 100, 100, 3)\n",
    "test = np.array(test)         # (794, 100, 100, 3)\n",
    "sample_Y = np.array(sample_Y)      # (2371,)\n",
    "train_Y = np.array(train_Y)        # (4750,)"
   ]
  },
  {
   "cell_type": "code",
   "execution_count": 8,
   "metadata": {},
   "outputs": [],
   "source": [
    "sample_X = toTensor(sample_X)\n",
    "train_X = toTensor(train_X)\n",
    "test = toTensor(test)"
   ]
  },
  {
   "cell_type": "code",
   "execution_count": 11,
   "metadata": {},
   "outputs": [],
   "source": [
    "def mk_dir(path):\n",
    "    try: \n",
    "        os.mkdir(path)\n",
    "    except OSError:\n",
    "        print(\"Creation of the directory %s failed\" % path)\n",
    "    else:\n",
    "        print(\"Successfully created the directory %s \" % path)"
   ]
  },
  {
   "cell_type": "code",
   "execution_count": 13,
   "metadata": {},
   "outputs": [
    {
     "name": "stdout",
     "output_type": "stream",
     "text": [
      "Successfully created the directory ./output \n"
     ]
    }
   ],
   "source": [
    "path = './output'\n",
    "mk_dir(path)"
   ]
  },
  {
   "cell_type": "code",
   "execution_count": 19,
   "metadata": {},
   "outputs": [],
   "source": [
    "def TensortoFile(path):\n",
    "    torch.save(sample_X, os.path.join(path, 'sample_X.pt'))\n",
    "    torch.save(train_X, os.path.join(path, 'train_X.pt'))\n",
    "    torch.save(test, os.path.join(path, 'test.pt'))\n",
    "\n",
    "def LabeltoFile(path):\n",
    "    np.savetxt(os.path.join(path, 'sample_Y.txt'), sample_Y.astype(int))\n",
    "    np.savetxt(os.path.join(path, 'train_Y.txt'), train_Y.astype(int))"
   ]
  },
  {
   "cell_type": "code",
   "execution_count": 20,
   "metadata": {},
   "outputs": [],
   "source": [
    "TensortoFile(path)\n",
    "LabeltoFile(path)"
   ]
  },
  {
   "cell_type": "code",
   "execution_count": null,
   "metadata": {},
   "outputs": [],
   "source": []
  }
 ],
 "metadata": {
  "kernelspec": {
   "display_name": "Python 3",
   "language": "python",
   "name": "python3"
  },
  "language_info": {
   "codemirror_mode": {
    "name": "ipython",
    "version": 3
   },
   "file_extension": ".py",
   "mimetype": "text/x-python",
   "name": "python",
   "nbconvert_exporter": "python",
   "pygments_lexer": "ipython3",
   "version": "3.7.5"
  }
 },
 "nbformat": 4,
 "nbformat_minor": 2
}
