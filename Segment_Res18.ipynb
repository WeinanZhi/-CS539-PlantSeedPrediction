{
  "nbformat": 4,
  "nbformat_minor": 0,
  "metadata": {
    "colab": {
      "name": "Segment_Res18",
      "provenance": [],
      "include_colab_link": true
    },
    "kernelspec": {
      "name": "python3",
      "display_name": "Python 3"
    },
    "accelerator": "GPU"
  },
  "cells": [
    {
      "cell_type": "markdown",
      "metadata": {
        "id": "view-in-github",
        "colab_type": "text"
      },
      "source": [
        "<a href=\"https://colab.research.google.com/github/WeinanZhi/-CS539-PlantSeedPrediction/blob/master/Segment_Res18.ipynb\" target=\"_parent\"><img src=\"https://colab.research.google.com/assets/colab-badge.svg\" alt=\"Open In Colab\"/></a>"
      ]
    },
    {
      "cell_type": "code",
      "metadata": {
        "id": "WGxvf1Mwxi9a",
        "colab_type": "code",
        "colab": {
          "base_uri": "https://localhost:8080/",
          "height": 122
        },
        "outputId": "6d628344-01dc-4a17-c07a-972a50098324"
      },
      "source": [
        "%tensorflow_version 2.x\n",
        "import tensorflow as tf\n",
        "import timeit\n",
        "import torch\n",
        "import tensorflow as tf\n",
        "import numpy as np\n",
        "import torchvision\n",
        "import matplotlib.pyplot as plt\n",
        "from torchvision import models\n",
        "import torch.nn as nn\n",
        "import torch.optim as optim\n",
        "from torch.optim import lr_scheduler\n",
        "import time\n",
        "import os\n",
        "import copy\n",
        "\n",
        "device_name = tf.test.gpu_device_name()\n",
        "if device_name != '/device:GPU:0':\n",
        "  print(\n",
        "      '\\n\\nThis error most likely means that this notebook is not '\n",
        "      'configured to use a GPU.  Change this in Notebook Settings via the '\n",
        "      'command palette (cmd/ctrl-shift-P) or the Edit menu.\\n\\n')\n",
        "  raise SystemError('GPU device not found')\n",
        "\n",
        "from google.colab import drive\n",
        "drive.mount('/content/drive')"
      ],
      "execution_count": 2,
      "outputs": [
        {
          "output_type": "stream",
          "text": [
            "Go to this URL in a browser: https://accounts.google.com/o/oauth2/auth?client_id=947318989803-6bn6qk8qdgf4n4g3pfee6491hc0brc4i.apps.googleusercontent.com&redirect_uri=urn%3aietf%3awg%3aoauth%3a2.0%3aoob&response_type=code&scope=email%20https%3a%2f%2fwww.googleapis.com%2fauth%2fdocs.test%20https%3a%2f%2fwww.googleapis.com%2fauth%2fdrive%20https%3a%2f%2fwww.googleapis.com%2fauth%2fdrive.photos.readonly%20https%3a%2f%2fwww.googleapis.com%2fauth%2fpeopleapi.readonly\n",
            "\n",
            "Enter your authorization code:\n",
            "··········\n",
            "Mounted at /content/drive\n"
          ],
          "name": "stdout"
        }
      ]
    },
    {
      "cell_type": "code",
      "metadata": {
        "id": "eZD_HmIG7_dL",
        "colab_type": "code",
        "colab": {
          "base_uri": "https://localhost:8080/",
          "height": 51
        },
        "outputId": "143b6723-2112-4da8-bbdd-198138bc35a8"
      },
      "source": [
        "path =\"/content/drive/My Drive/课程作业/MachineLearning/MLproject/ProcessedDataByLei\"\n",
        "seg_X = torch.load(path+'/seg_train_X.pt')\n",
        "seg_Y = np.loadtxt(path+'/seg_train_Y.txt').astype(np.int64)\n",
        "seg_Y = torch.from_numpy(seg_Y)\n",
        "\n",
        "print(seg_X.size())\n",
        "print(seg_Y.size())"
      ],
      "execution_count": 5,
      "outputs": [
        {
          "output_type": "stream",
          "text": [
            "torch.Size([3251, 3, 224, 224])\n",
            "torch.Size([3251])\n"
          ],
          "name": "stdout"
        }
      ]
    },
    {
      "cell_type": "code",
      "metadata": {
        "id": "0tsbnsTA9U68",
        "colab_type": "code",
        "colab": {}
      },
      "source": [
        "dataset = torch.utils.data.TensorDataset(seg_X, seg_Y)\n",
        "\n",
        "data_size = int(0.15 * len(dataset))  #只取1/4的数据作为dataset\n",
        "dataset, _ = torch.utils.data.random_split(dataset, [data_size, len(dataset)-data_size])\n",
        "\n",
        "train_size = int(0.8 * len(dataset))\n",
        "test_size = len(dataset) - train_size\n",
        "train_dataset, test_dataset = torch.utils.data.random_split(dataset, [train_size, test_size])\n",
        "\n",
        "print(\"dataset size is: %d\",data_size)\n",
        "print(\"training set size is: %d\",train_size)\n",
        "print(\"test set size is: %d\",test_size)\n",
        "\n",
        "dataset_sizes={\n",
        "    \"Train\":train_size,\n",
        "    \"Test\":test_size\n",
        "}\n",
        "\n",
        "class_names = [\"Black grass\",\"Charlock\",\"Cleavers\",\"Common Chickweed\",\"Common wheat\",\"Fat Hen\",\"Loose Silky-bent\",\"Maize\",\"Scentless Mayweed\",\"Shepherds Purse\",\"Small-flowered Cranesbill\",\"Sugar beet\"]\n",
        "\n",
        "# 把 dataset 放入 DataLoader\n",
        "Train_loader = torch.utils.data.DataLoader(\n",
        "    dataset=train_dataset,      # torch TensorDataset format\n",
        "    batch_size=4,               # mini batch size\n",
        "    shuffle=True,               # 要不要打乱数据 (打乱比较好)\n",
        "    num_workers=4,              # 多线程来读数据\n",
        ")\n",
        "\n",
        "Test_loader = torch.utils.data.DataLoader(\n",
        "    dataset=test_dataset,      # torch TensorDataset format\n",
        "    batch_size=4,               # mini batch size\n",
        "    shuffle=False,               # 要不要打乱数据 (打乱比较好)\n",
        "    num_workers=4,              # 多线程来读数据\n",
        ")\n",
        "\n",
        "dataloaders={\n",
        "    \"Train\":Train_loader,\n",
        "    \"Test\":Test_loader\n",
        "}"
      ],
      "execution_count": 0,
      "outputs": []
    },
    {
      "cell_type": "code",
      "metadata": {
        "id": "GE4RMX3A9GYk",
        "colab_type": "code",
        "colab": {
          "base_uri": "https://localhost:8080/",
          "height": 148
        },
        "outputId": "f80ab5fb-51bc-4f23-e35a-07d32734f403"
      },
      "source": [
        "def imshow(inp, title=None):\n",
        "    \"\"\"Imshow for Tensor.\"\"\"\n",
        "    inp = inp.numpy().transpose((1, 2, 0))\n",
        "    mean = np.array([0.485, 0.456, 0.406])\n",
        "    std = np.array([0.229, 0.224, 0.225])\n",
        "    inp = std * inp + mean\n",
        "    inp = np.clip(inp, 0, 1)\n",
        "    plt.imshow(inp)\n",
        "    if title is not None:\n",
        "        plt.title(title)\n",
        "    plt.pause(0.001)  \n",
        "\n",
        "\n",
        "# Get a batch of training data\n",
        "inputs, classes = next(iter(Train_loader))\n",
        "\n",
        "# Make a grid from batch\n",
        "out = torchvision.utils.make_grid(inputs)\n",
        "\n",
        "imshow(out, title=[class_names[x] for x in classes])"
      ],
      "execution_count": 7,
      "outputs": [
        {
          "output_type": "display_data",
          "data": {
            "image/png": "[encoded data removed]",
            "text/plain": [
              "<Figure size 432x288 with 1 Axes>"
            ]
          },
          "metadata": {
            "tags": []
          }
        }
      ]
    },
    {
      "cell_type": "code",
      "metadata": {
        "id": "JXuOxeoV9o76",
        "colab_type": "code",
        "colab": {}
      },
      "source": [
        "# training model\n",
        "def train_model(model, criterion, optimizer, scheduler, num_epochs=25):\n",
        "    since = time.time()\n",
        "\n",
        "    best_model_wts = copy.deepcopy(model.state_dict())\n",
        "    best_acc = 0.0\n",
        "\n",
        "    for epoch in range(num_epochs):\n",
        "        print('Epoch {}/{}'.format(epoch, num_epochs - 1))\n",
        "        print('-' * 10)\n",
        "\n",
        "        # Each epoch has a training and validation phase\n",
        "        for phase in ['Train', 'Test']:\n",
        "            if phase == 'Train':\n",
        "                model.train()  # Set model to training mode\n",
        "            else:\n",
        "                model.eval()   # Set model to evaluate mode\n",
        "\n",
        "            running_loss = 0.0\n",
        "            running_corrects = 0\n",
        "\n",
        "            # Iterate over data.\n",
        "            for inputs, labels in dataloaders[phase]:\n",
        "\n",
        "                # zero the parameter gradients\n",
        "                optimizer.zero_grad()\n",
        "\n",
        "                # forward\n",
        "                # track history if only in train\n",
        "                with torch.set_grad_enabled(phase == 'Train'):\n",
        "                    outputs = model(inputs)\n",
        "                    _, preds = torch.max(outputs, 1)\n",
        "                    loss = criterion(outputs, labels)\n",
        "\n",
        "                    # backward + optimize only if in training phase\n",
        "                    if phase == 'Train':\n",
        "                        loss.backward()\n",
        "                        optimizer.step()\n",
        "\n",
        "                # statistics\n",
        "                running_loss += loss.item() * inputs.size(0)\n",
        "                running_corrects += torch.sum(preds == labels.data)\n",
        "            if phase == 'Train':\n",
        "                scheduler.step()\n",
        "\n",
        "            epoch_loss = running_loss / dataset_sizes[phase]\n",
        "            epoch_acc = running_corrects.double() / dataset_sizes[phase]\n",
        "\n",
        "            print('{} Loss: {:.4f} Acc: {:.4f}'.format(\n",
        "                phase, epoch_loss, epoch_acc))\n",
        "\n",
        "            # deep copy the model\n",
        "            if phase == 'Test' and epoch_acc > best_acc:\n",
        "                best_acc = epoch_acc\n",
        "                best_model_wts = copy.deepcopy(model.state_dict())\n",
        "\n",
        "        print()\n",
        "\n",
        "    time_elapsed = time.time() - since\n",
        "    print('Training complete in {:.0f}m {:.0f}s'.format(\n",
        "        time_elapsed // 60, time_elapsed % 60))\n",
        "    print('Best val Acc: {:4f}'.format(best_acc))\n",
        "\n",
        "    # load best model weights\n",
        "    model.load_state_dict(best_model_wts)\n",
        "    return model"
      ],
      "execution_count": 0,
      "outputs": []
    },
    {
      "cell_type": "code",
      "metadata": {
        "id": "PibmmD569sRu",
        "colab_type": "code",
        "colab": {}
      },
      "source": [
        "#可视化一些prediction\n",
        "def visualize_model(model, num_images=6):\n",
        "    was_training = model.training\n",
        "    model.eval()  #设置为evaluation模式\n",
        "    images_so_far = 0\n",
        "    fig = plt.figure()\n",
        "\n",
        "    with torch.no_grad():\n",
        "        for i, (inputs, labels) in enumerate(dataloaders['val']):\n",
        "\n",
        "            outputs = model(inputs)\n",
        "            _, preds = torch.max(outputs, 1)\n",
        "\n",
        "            for j in range(inputs.size()[0]):\n",
        "                images_so_far += 1\n",
        "                ax = plt.subplot(num_images//2, 2, images_so_far)\n",
        "                ax.axis('off')\n",
        "                ax.set_title('predicted: {}'.format(class_names[preds[j]]))\n",
        "                imshow(inputs.cpu().data[j])\n",
        "\n",
        "                if images_so_far == num_images:\n",
        "                    model.train(mode=was_training)\n",
        "                    return\n",
        "        model.train(mode=was_training)"
      ],
      "execution_count": 0,
      "outputs": []
    },
    {
      "cell_type": "code",
      "metadata": {
        "id": "daX-ZFku9s9S",
        "colab_type": "code",
        "colab": {
          "base_uri": "https://localhost:8080/",
          "height": 51
        },
        "outputId": "b0d80e80-1b2c-4ede-ae94-bbf98792b033"
      },
      "source": [
        "#Fine tuning\n",
        "\n",
        "\n",
        "model_ft = models.resnet18(pretrained=True)   #使用resnet18\n",
        "num_ftrs = model_ft.fc.in_features\n",
        "# Here the size of each output sample is set to 2.\n",
        "# Alternatively, it can be generalized to nn.Linear(num_ftrs, len(class_names)).\n",
        "model_ft.fc = nn.Linear(num_ftrs, 12)  #保留fc最后一层的in_feature=512,输出为12\n",
        "\n",
        "# model_ft.load_state_dict(torch.load('params.pkl'))  #加载训练好的模型\n",
        "\n",
        "criterion = nn.CrossEntropyLoss()\n",
        "\n",
        "# Observe that all parameters are being optimized\n",
        "optimizer_ft = optim.SGD(model_ft.parameters(), lr=0.001, momentum=0.9)\n",
        "\n",
        "# Decay LR by a factor of 0.1 every 7 epochs, learning rate 每7个epoch缩小为0.1\n",
        "exp_lr_scheduler = lr_scheduler.StepLR(optimizer_ft, step_size=7, gamma=0.1)"
      ],
      "execution_count": 10,
      "outputs": [
        {
          "output_type": "stream",
          "text": [
            "Downloading: \"https://download.pytorch.org/models/resnet18-5c106cde.pth\" to /root/.cache/torch/checkpoints/resnet18-5c106cde.pth\n",
            "100%|██████████| 44.7M/44.7M [00:00<00:00, 108MB/s]\n"
          ],
          "name": "stderr"
        }
      ]
    },
    {
      "cell_type": "code",
      "metadata": {
        "id": "FVahZAHb9vP0",
        "colab_type": "code",
        "colab": {}
      },
      "source": [
        "model_ft = train_model(model_ft, criterion, optimizer_ft, exp_lr_scheduler,\n",
        "                       num_epochs=25)\n",
        "torch.save(model_ft.state_dict(), '/content/drive/My Drive/课程作业/MachineLearning/MLproject/seg_res18_params.pkl')\n",
        "\n",
        "visualize_model(model_ft, num_images=6)"
      ],
      "execution_count": 0,
      "outputs": []
    },
    {
      "cell_type": "markdown",
      "metadata": {
        "id": "W4Nur9vTNSL_",
        "colab_type": "text"
      },
      "source": [
        "Epoch 0/24\n",
        "----------\n",
        "Train Loss: 1.9868 Acc: 0.3290\n",
        "Test Loss: 0.9531 Acc: 0.6735\n",
        "\n",
        "Epoch 1/24\n",
        "----------\n",
        "Train Loss: 0.9893 Acc: 0.6735\n",
        "Test Loss: 0.6931 Acc: 0.7653\n",
        "\n",
        "Epoch 2/24\n",
        "----------\n",
        "Train Loss: 0.5622 Acc: 0.8329\n",
        "Test Loss: 0.5679 Acc: 0.7551\n",
        "\n",
        "Epoch 3/24\n",
        "----------\n",
        "Train Loss: 0.3661 Acc: 0.8843\n",
        "Test Loss: 0.5842 Acc: 0.7959\n",
        "\n",
        "Epoch 4/24\n",
        "----------\n",
        "Train Loss: 0.3013 Acc: 0.9229\n",
        "Test Loss: 0.4537 Acc: 0.8265\n",
        "\n",
        "Epoch 5/24\n",
        "----------\n",
        "Train Loss: 0.1913 Acc: 0.9563\n",
        "Test Loss: 0.6597 Acc: 0.7755\n",
        "\n",
        "Epoch 6/24\n",
        "----------\n",
        "Train Loss: 0.2099 Acc: 0.9409\n",
        "Test Loss: 0.3749 Acc: 0.8673\n",
        "\n",
        "Epoch 7/24\n",
        "----------\n",
        "Train Loss: 0.1365 Acc: 0.9717\n",
        "Test Loss: 0.3548 Acc: 0.8980\n",
        "\n",
        "Epoch 8/24\n",
        "----------\n",
        "Train Loss: 0.1206 Acc: 0.9692\n",
        "Test Loss: 0.3815 Acc: 0.8980\n",
        "\n",
        "Epoch 9/24\n",
        "----------\n",
        "Train Loss: 0.1028 Acc: 0.9717\n",
        "Test Loss: 0.3452 Acc: 0.8878\n",
        "\n",
        "Epoch 10/24\n",
        "----------\n",
        "Train Loss: 0.1435 Acc: 0.9537\n",
        "Test Loss: 0.3621 Acc: 0.9082\n",
        "\n",
        "Epoch 11/24\n",
        "----------\n",
        "Train Loss: 0.1216 Acc: 0.9794\n",
        "Test Loss: 0.3684 Acc: 0.8673\n",
        "\n",
        "Epoch 12/24\n",
        "----------\n",
        "Train Loss: 0.0844 Acc: 0.9897\n",
        "Test Loss: 0.4281 Acc: 0.8673\n",
        "\n",
        "Epoch 13/24\n",
        "----------\n",
        "Train Loss: 0.0736 Acc: 0.9923\n",
        "Test Loss: 0.3789 Acc: 0.8673\n",
        "\n",
        "Epoch 14/24\n",
        "----------\n",
        "Train Loss: 0.0824 Acc: 0.9820\n",
        "Test Loss: 0.3617 Acc: 0.8878\n",
        "\n",
        "Epoch 15/24\n",
        "----------\n",
        "Train Loss: 0.1066 Acc: 0.9692\n",
        "Test Loss: 0.3745 Acc: 0.8776\n",
        "\n",
        "Epoch 16/24\n",
        "----------\n",
        "Train Loss: 0.0764 Acc: 0.9871\n",
        "Test Loss: 0.3544 Acc: 0.9082\n",
        "\n",
        "Epoch 17/24\n",
        "----------\n",
        "Train Loss: 0.0843 Acc: 0.9820\n",
        "Test Loss: 0.3894 Acc: 0.8571\n",
        "\n",
        "Epoch 18/24\n",
        "----------\n",
        "Train Loss: 0.0741 Acc: 0.9820\n",
        "Test Loss: 0.3887 Acc: 0.8878\n",
        "\n",
        "Epoch 19/24\n",
        "----------\n",
        "Train Loss: 0.0484 Acc: 0.9974\n",
        "Test Loss: 0.4200 Acc: 0.8571\n",
        "\n",
        "Epoch 20/24\n",
        "----------\n",
        "Train Loss: 0.1159 Acc: 0.9717\n",
        "Test Loss: 0.4190 Acc: 0.8878\n",
        "\n",
        "Epoch 21/24\n",
        "----------\n",
        "Train Loss: 0.0872 Acc: 0.9846\n",
        "Test Loss: 0.3782 Acc: 0.8673\n",
        "\n",
        "Epoch 22/24\n",
        "----------\n",
        "Train Loss: 0.1488 Acc: 0.9589\n",
        "Test Loss: 0.4201 Acc: 0.8776\n",
        "\n",
        "Epoch 23/24\n",
        "----------\n",
        "Train Loss: 0.0676 Acc: 0.9871\n",
        "Test Loss: 0.3726 Acc: 0.8673\n",
        "\n",
        "Epoch 24/24\n",
        "----------\n",
        "Train Loss: 0.0680 Acc: 0.9923\n",
        "Test Loss: 0.4232 Acc: 0.8571\n",
        "\n",
        "Training complete in 58m 36s\n",
        "Best val Acc: 0.908163"
      ]
    }
  ]
}