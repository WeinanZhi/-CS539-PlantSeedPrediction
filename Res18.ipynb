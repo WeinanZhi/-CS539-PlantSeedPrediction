{
  "nbformat": 4,
  "nbformat_minor": 0,
  "metadata": {
    "colab": {
      "name": "Res18",
      "provenance": [],
      "collapsed_sections": [],
      "machine_shape": "hm",
      "include_colab_link": true
    },
    "kernelspec": {
      "name": "python3",
      "display_name": "Python 3"
    },
    "accelerator": "GPU"
  },
  "cells": [
    {
      "cell_type": "markdown",
      "metadata": {
        "id": "view-in-github",
        "colab_type": "text"
      },
      "source": [
        "<a href=\"https://colab.research.google.com/github/WeinanZhi/-CS539-PlantSeedPrediction/blob/master/Res18.ipynb\" target=\"_parent\"><img src=\"https://colab.research.google.com/assets/colab-badge.svg\" alt=\"Open In Colab\"/></a>"
      ]
    },
    {
      "cell_type": "code",
      "metadata": {
        "id": "IASORjihwhbA",
        "colab_type": "code",
        "colab": {}
      },
      "source": [
        "%tensorflow_version 2.x\n",
        "import tensorflow as tf\n",
        "import timeit\n",
        "import torch\n",
        "import tensorflow as tf\n",
        "import numpy as np\n",
        "import torchvision\n",
        "import matplotlib.pyplot as plt\n",
        "from torchvision import models\n",
        "import torch.nn as nn\n",
        "import torch.optim as optim\n",
        "from torch.optim import lr_scheduler\n",
        "import time\n",
        "import os\n",
        "import copy\n",
        "\n",
        "device_name = tf.test.gpu_device_name()\n",
        "if device_name != '/device:GPU:0':\n",
        "  print(\n",
        "      '\\n\\nThis error most likely means that this notebook is not '\n",
        "      'configured to use a GPU.  Change this in Notebook Settings via the '\n",
        "      'command palette (cmd/ctrl-shift-P) or the Edit menu.\\n\\n')\n",
        "  raise SystemError('GPU device not found')"
      ],
      "execution_count": 0,
      "outputs": []
    },
    {
      "cell_type": "code",
      "metadata": {
        "id": "gMWaUJW5wvP4",
        "colab_type": "code",
        "outputId": "03a0cc87-124f-4f06-f622-ad61b436ea34",
        "colab": {
          "base_uri": "https://localhost:8080/",
          "height": 34
        }
      },
      "source": [
        "from google.colab import drive\n",
        "drive.mount('/content/drive')"
      ],
      "execution_count": 0,
      "outputs": [
        {
          "output_type": "stream",
          "text": [
            "Drive already mounted at /content/drive; to attempt to forcibly remount, call drive.mount(\"/content/drive\", force_remount=True).\n"
          ],
          "name": "stdout"
        }
      ]
    },
    {
      "cell_type": "code",
      "metadata": {
        "id": "_IZoaoCF1EmJ",
        "colab_type": "code",
        "outputId": "a6509251-4ca7-492e-abdd-7a89b28ec5c7",
        "colab": {
          "base_uri": "https://localhost:8080/",
          "height": 51
        }
      },
      "source": [
        "path =\"/content/drive/My Drive/课程作业/MachineLearning/MLproject/ProcessedData\"\n",
        "sampleX = torch.load(path+'/sample_train_X.pt')\n",
        "# raw_sampleX = torch.load(path+'/sample_train_X.pt').numpy()\n",
        "# sampleX = np.squeeze(raw_sampleX)\n",
        "sampleY = np.loadtxt(path+'/sample_train_Y.txt').astype(np.int64)\n",
        "sampleY = torch.from_numpy(sampleY)\n",
        "\n",
        "print(sampleX.size())\n",
        "print(sampleY.size())"
      ],
      "execution_count": 0,
      "outputs": [
        {
          "output_type": "stream",
          "text": [
            "torch.Size([2371, 3, 224, 224])\n",
            "torch.Size([2371])\n"
          ],
          "name": "stdout"
        }
      ]
    },
    {
      "cell_type": "code",
      "metadata": {
        "id": "peafrxQ_8EG8",
        "colab_type": "code",
        "colab": {}
      },
      "source": [
        "\n"
      ],
      "execution_count": 0,
      "outputs": []
    },
    {
      "cell_type": "code",
      "metadata": {
        "id": "g8G_j5xvo5tX",
        "colab_type": "code",
        "colab": {}
      },
      "source": [
        "\n",
        "dataset = torch.utils.data.TensorDataset(sampleX, sampleY)\n",
        "\n",
        "data_size = int(0.25 * len(dataset))  #只取1/4的数据作为dataset\n",
        "dataset, _ = torch.utils.data.random_split(dataset, [data_size, len(dataset)-data_size])\n",
        "\n",
        "train_size = int(0.8 * len(dataset))\n",
        "test_size = len(dataset) - train_size\n",
        "train_dataset, test_dataset = torch.utils.data.random_split(dataset, [train_size, test_size])\n",
        "\n",
        "dataset_sizes={\n",
        "    \"Train\":train_size,\n",
        "    \"Test\":test_size\n",
        "}\n",
        "\n",
        "class_names = [\"Black grass\",\"Charlock\",\"Cleavers\",\"Common Chickweed\",\"Common wheat\",\"Fat Hen\",\"Loose Silky-bent\",\"Maize\",\"Scentless Mayweed\",\"Shepherds Purse\",\"Small-flowered Cranesbill\",\"Sugar beet\"]\n",
        "\n",
        "# 把 dataset 放入 DataLoader\n",
        "Train_loader = torch.utils.data.DataLoader(\n",
        "    dataset=train_dataset,      # torch TensorDataset format\n",
        "    batch_size=4,               # mini batch size\n",
        "    shuffle=True,               # 要不要打乱数据 (打乱比较好)\n",
        "    num_workers=4,              # 多线程来读数据\n",
        ")\n",
        "\n",
        "Test_loader = torch.utils.data.DataLoader(\n",
        "    dataset=test_dataset,      # torch TensorDataset format\n",
        "    batch_size=4,               # mini batch size\n",
        "    shuffle=False,               # 要不要打乱数据 (打乱比较好)\n",
        "    num_workers=4,              # 多线程来读数据\n",
        ")\n",
        "\n",
        "dataloaders={\n",
        "    \"Train\":Train_loader,\n",
        "    \"Test\":Test_loader\n",
        "}"
      ],
      "execution_count": 0,
      "outputs": []
    },
    {
      "cell_type": "code",
      "metadata": {
        "id": "Ngi__saLkztn",
        "colab_type": "code",
        "outputId": "2541e136-afb8-41a0-a78d-24a39d4238eb",
        "colab": {
          "base_uri": "https://localhost:8080/",
          "height": 148
        }
      },
      "source": [
        "\n",
        "\n",
        "def imshow(inp, title=None):\n",
        "    \"\"\"Imshow for Tensor.\"\"\"\n",
        "    inp = inp.numpy().transpose((1, 2, 0))\n",
        "    mean = np.array([0.485, 0.456, 0.406])\n",
        "    std = np.array([0.229, 0.224, 0.225])\n",
        "    inp = std * inp + mean\n",
        "    inp = np.clip(inp, 0, 1)\n",
        "    plt.imshow(inp)\n",
        "    if title is not None:\n",
        "        plt.title(title)\n",
        "    plt.pause(0.001)  # pause a bit so that plots are updated\n",
        "\n",
        "\n",
        "# Get a batch of training data\n",
        "inputs, classes = next(iter(Train_loader))\n",
        "\n",
        "# Make a grid from batch\n",
        "out = torchvision.utils.make_grid(inputs)\n",
        "\n",
        "imshow(out, title=[class_names[x] for x in classes])"
      ],
      "execution_count": 0,
      "outputs": [
        {
          "output_type": "display_data",
          "data": {
            "image/png": "[encoded data removed]",
            "text/plain": [
              "<Figure size 432x288 with 1 Axes>"
            ]
          },
          "metadata": {
            "tags": []
          }
        }
      ]
    },
    {
      "cell_type": "code",
      "metadata": {
        "id": "a4uRTd-iyC1n",
        "colab_type": "code",
        "colab": {}
      },
      "source": [
        "# training model\n",
        "def train_model(model, criterion, optimizer, scheduler, num_epochs=25):\n",
        "    since = time.time()\n",
        "\n",
        "    best_model_wts = copy.deepcopy(model.state_dict())\n",
        "    best_acc = 0.0\n",
        "\n",
        "    for epoch in range(num_epochs):\n",
        "        print('Epoch {}/{}'.format(epoch, num_epochs - 1))\n",
        "        print('-' * 10)\n",
        "\n",
        "        # Each epoch has a training and validation phase\n",
        "        for phase in ['Train', 'Test']:\n",
        "            if phase == 'Train':\n",
        "                model.train()  # Set model to training mode\n",
        "            else:\n",
        "                model.eval()   # Set model to evaluate mode\n",
        "\n",
        "            running_loss = 0.0\n",
        "            running_corrects = 0\n",
        "\n",
        "            # Iterate over data.\n",
        "            for inputs, labels in dataloaders[phase]:\n",
        "\n",
        "                # zero the parameter gradients\n",
        "                optimizer.zero_grad()\n",
        "\n",
        "                # forward\n",
        "                # track history if only in train\n",
        "                with torch.set_grad_enabled(phase == 'Train'):\n",
        "                    outputs = model(inputs)\n",
        "                    _, preds = torch.max(outputs, 1)\n",
        "                    loss = criterion(outputs, labels)\n",
        "\n",
        "                    # backward + optimize only if in training phase\n",
        "                    if phase == 'Train':\n",
        "                        loss.backward()\n",
        "                        optimizer.step()\n",
        "\n",
        "                # statistics\n",
        "                running_loss += loss.item() * inputs.size(0)\n",
        "                running_corrects += torch.sum(preds == labels.data)\n",
        "            if phase == 'Train':\n",
        "                scheduler.step()\n",
        "\n",
        "            epoch_loss = running_loss / dataset_sizes[phase]\n",
        "            epoch_acc = running_corrects.double() / dataset_sizes[phase]\n",
        "\n",
        "            print('{} Loss: {:.4f} Acc: {:.4f}'.format(\n",
        "                phase, epoch_loss, epoch_acc))\n",
        "\n",
        "            # deep copy the model\n",
        "            if phase == 'Test' and epoch_acc > best_acc:\n",
        "                best_acc = epoch_acc\n",
        "                best_model_wts = copy.deepcopy(model.state_dict())\n",
        "\n",
        "        print()\n",
        "\n",
        "    time_elapsed = time.time() - since\n",
        "    print('Training complete in {:.0f}m {:.0f}s'.format(\n",
        "        time_elapsed // 60, time_elapsed % 60))\n",
        "    print('Best val Acc: {:4f}'.format(best_acc))\n",
        "\n",
        "    # load best model weights\n",
        "    model.load_state_dict(best_model_wts)\n",
        "    return model"
      ],
      "execution_count": 0,
      "outputs": []
    },
    {
      "cell_type": "code",
      "metadata": {
        "id": "_O49A5xSzy4G",
        "colab_type": "code",
        "colab": {}
      },
      "source": [
        "#可视化一些prediction\n",
        "def visualize_model(model, num_images=6):\n",
        "    was_training = model.training\n",
        "    model.eval()  #设置为evaluation模式\n",
        "    images_so_far = 0\n",
        "    fig = plt.figure()\n",
        "\n",
        "    with torch.no_grad():\n",
        "        for i, (inputs, labels) in enumerate(dataloaders['val']):\n",
        "\n",
        "            outputs = model(inputs)\n",
        "            _, preds = torch.max(outputs, 1)\n",
        "\n",
        "            for j in range(inputs.size()[0]):\n",
        "                images_so_far += 1\n",
        "                ax = plt.subplot(num_images//2, 2, images_so_far)\n",
        "                ax.axis('off')\n",
        "                ax.set_title('predicted: {}'.format(class_names[preds[j]]))\n",
        "                imshow(inputs.cpu().data[j])\n",
        "\n",
        "                if images_so_far == num_images:\n",
        "                    model.train(mode=was_training)\n",
        "                    return\n",
        "        model.train(mode=was_training)"
      ],
      "execution_count": 0,
      "outputs": []
    },
    {
      "cell_type": "code",
      "metadata": {
        "id": "45KWSfQU0J3G",
        "colab_type": "code",
        "colab": {}
      },
      "source": [
        "\n",
        "#Fine tuning\n",
        "\n",
        "\n",
        "model_ft = models.resnet18(pretrained=True)   #使用resnet18\n",
        "num_ftrs = model_ft.fc.in_features\n",
        "# Here the size of each output sample is set to 2.\n",
        "# Alternatively, it can be generalized to nn.Linear(num_ftrs, len(class_names)).\n",
        "model_ft.fc = nn.Linear(num_ftrs, 12)  #保留fc最后一层的in_feature=512,输出为12\n",
        "\n",
        "# model_ft.load_state_dict(torch.load('params.pkl'))  #加载训练好的模型\n",
        "\n",
        "criterion = nn.CrossEntropyLoss()\n",
        "\n",
        "# Observe that all parameters are being optimized\n",
        "optimizer_ft = optim.SGD(model_ft.parameters(), lr=0.001, momentum=0.9)\n",
        "\n",
        "# Decay LR by a factor of 0.1 every 7 epochs, learning rate 每7个epoch缩小为0.1\n",
        "exp_lr_scheduler = lr_scheduler.StepLR(optimizer_ft, step_size=7, gamma=0.1)"
      ],
      "execution_count": 0,
      "outputs": []
    },
    {
      "cell_type": "code",
      "metadata": {
        "id": "tF33zSeA1IsW",
        "colab_type": "code",
        "outputId": "7cb48bb0-892c-402f-da77-046aad38d8a3",
        "colab": {
          "base_uri": "https://localhost:8080/",
          "height": 1000
        }
      },
      "source": [
        "model_ft = train_model(model_ft, criterion, optimizer_ft, exp_lr_scheduler,\n",
        "                       num_epochs=25)\n",
        "torch.save(model_ft.state_dict(), 'params.pkl')\n"
      ],
      "execution_count": 0,
      "outputs": [
        {
          "output_type": "stream",
          "text": [
            "Epoch 0/24\n",
            "----------\n",
            "Train Loss: 2.0904 Acc: 0.2981\n",
            "Test Loss: 1.5789 Acc: 0.5546\n",
            "\n",
            "Epoch 1/24\n",
            "----------\n",
            "Train Loss: 1.1641 Acc: 0.6300\n",
            "Test Loss: 1.1453 Acc: 0.6471\n",
            "\n",
            "Epoch 2/24\n",
            "----------\n",
            "Train Loss: 0.6740 Acc: 0.7992\n",
            "Test Loss: 0.6210 Acc: 0.7815\n",
            "\n",
            "Epoch 3/24\n",
            "----------\n",
            "Train Loss: 0.4340 Acc: 0.8605\n",
            "Test Loss: 0.6981 Acc: 0.7395\n",
            "\n",
            "Epoch 4/24\n",
            "----------\n",
            "Train Loss: 0.3793 Acc: 0.8816\n",
            "Test Loss: 0.4750 Acc: 0.8403\n",
            "\n",
            "Epoch 5/24\n",
            "----------\n",
            "Train Loss: 0.2331 Acc: 0.9387\n",
            "Test Loss: 0.5296 Acc: 0.7731\n",
            "\n",
            "Epoch 6/24\n",
            "----------\n",
            "Train Loss: 0.2455 Acc: 0.9281\n",
            "Test Loss: 0.7238 Acc: 0.7899\n",
            "\n",
            "Epoch 7/24\n",
            "----------\n",
            "Train Loss: 0.1694 Acc: 0.9535\n",
            "Test Loss: 0.6016 Acc: 0.8151\n",
            "\n",
            "Epoch 8/24\n",
            "----------\n",
            "Train Loss: 0.1732 Acc: 0.9598\n",
            "Test Loss: 0.5465 Acc: 0.8235\n",
            "\n",
            "Epoch 9/24\n",
            "----------\n",
            "Train Loss: 0.1393 Acc: 0.9577\n",
            "Test Loss: 0.5921 Acc: 0.7815\n",
            "\n",
            "Epoch 10/24\n",
            "----------\n",
            "Train Loss: 0.1120 Acc: 0.9725\n",
            "Test Loss: 0.5255 Acc: 0.8319\n",
            "\n",
            "Epoch 11/24\n",
            "----------\n",
            "Train Loss: 0.0725 Acc: 0.9873\n",
            "Test Loss: 0.4769 Acc: 0.8151\n",
            "\n",
            "Epoch 12/24\n",
            "----------\n",
            "Train Loss: 0.0659 Acc: 0.9894\n",
            "Test Loss: 0.4814 Acc: 0.8403\n",
            "\n",
            "Epoch 13/24\n",
            "----------\n",
            "Train Loss: 0.0640 Acc: 0.9894\n",
            "Test Loss: 0.5094 Acc: 0.8403\n",
            "\n",
            "Epoch 14/24\n",
            "----------\n",
            "Train Loss: 0.1010 Acc: 0.9831\n",
            "Test Loss: 0.4625 Acc: 0.8235\n",
            "\n",
            "Epoch 15/24\n",
            "----------\n",
            "Train Loss: 0.0674 Acc: 0.9873\n",
            "Test Loss: 0.4395 Acc: 0.8487\n",
            "\n",
            "Epoch 16/24\n",
            "----------\n",
            "Train Loss: 0.0634 Acc: 0.9894\n",
            "Test Loss: 0.4249 Acc: 0.8151\n",
            "\n",
            "Epoch 17/24\n",
            "----------\n",
            "Train Loss: 0.1709 Acc: 0.9577\n",
            "Test Loss: 0.4275 Acc: 0.8319\n",
            "\n",
            "Epoch 18/24\n",
            "----------\n",
            "Train Loss: 0.0848 Acc: 0.9831\n",
            "Test Loss: 0.4647 Acc: 0.8067\n",
            "\n",
            "Epoch 19/24\n",
            "----------\n",
            "Train Loss: 0.0593 Acc: 0.9937\n",
            "Test Loss: 0.4911 Acc: 0.7983\n",
            "\n",
            "Epoch 20/24\n",
            "----------\n",
            "Train Loss: 0.0706 Acc: 0.9873\n",
            "Test Loss: 0.5176 Acc: 0.8235\n",
            "\n",
            "Epoch 21/24\n",
            "----------\n",
            "Train Loss: 0.0710 Acc: 0.9894\n",
            "Test Loss: 0.5014 Acc: 0.8319\n",
            "\n",
            "Epoch 22/24\n",
            "----------\n",
            "Train Loss: 0.0638 Acc: 0.9873\n",
            "Test Loss: 0.4516 Acc: 0.8487\n",
            "\n",
            "Epoch 23/24\n",
            "----------\n",
            "Train Loss: 0.0757 Acc: 0.9831\n",
            "Test Loss: 0.4676 Acc: 0.8235\n",
            "\n",
            "Epoch 24/24\n",
            "----------\n",
            "Train Loss: 0.0441 Acc: 0.9979\n",
            "Test Loss: 0.4771 Acc: 0.8067\n",
            "\n",
            "Training complete in 42m 10s\n",
            "Best val Acc: 0.848739\n"
          ],
          "name": "stdout"
        }
      ]
    }
  ]
}